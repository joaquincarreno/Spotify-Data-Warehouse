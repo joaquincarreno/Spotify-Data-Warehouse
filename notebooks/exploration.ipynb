{
 "cells": [
  {
   "cell_type": "code",
   "execution_count": 137,
   "metadata": {},
   "outputs": [],
   "source": [
    "import pandas as pd\n",
    "import json\n",
    "import os"
   ]
  },
  {
   "cell_type": "code",
   "execution_count": 138,
   "metadata": {},
   "outputs": [
    {
     "name": "stdout",
     "output_type": "stream",
     "text": [
      "reading: Streaming_History_Audio_2014-2018_0.json\n",
      "reading: Streaming_History_Audio_2024_5.json\n",
      "reading: Streaming_History_Audio_2019-2021_2.json\n",
      "reading: Streaming_History_Audio_2018-2019_1.json\n",
      "reading: Streaming_History_Video_2016-2024.json\n",
      "reading: Streaming_History_Audio_2024_4.json\n",
      "reading: Streaming_History_Audio_2021-2024_3.json\n"
     ]
    }
   ],
   "source": [
    "files = os.listdir('data/raw/')\n",
    "data = []\n",
    "for f in files:\n",
    "    print('reading: ' +f)\n",
    "    with open('data/raw/' + f, 'r') as file:\n",
    "        for stream_data in json.load(file):\n",
    "            # print(stream_data)\n",
    "            data += [stream_data]"
   ]
  },
  {
   "cell_type": "code",
   "execution_count": 139,
   "metadata": {},
   "outputs": [
    {
     "name": "stdout",
     "output_type": "stream",
     "text": [
      "total streams: 83743\n"
     ]
    }
   ],
   "source": [
    "print(f'total streams: {len(df)}')"
   ]
  },
  {
   "cell_type": "code",
   "execution_count": 140,
   "metadata": {},
   "outputs": [
    {
     "name": "stdout",
     "output_type": "stream",
     "text": [
      "[{'ts': '2014-03-29T11:46:30Z', 'username': '12135342802', 'platform': 'iOS 7.1 (iPhone5,1)', 'ms_played': 20619, 'conn_country': 'CL', 'ip_addr_decrypted': '186.9.128.4', 'user_agent_decrypted': 'unknown', 'master_metadata_track_name': 'Clavo Y Martilleo', 'master_metadata_album_artist_name': 'Tiro De Gracia', 'master_metadata_album_album_name': 'Ser Hümano!!', 'spotify_track_uri': 'spotify:track:7op20AvNznqn3fTNQE1O4S', 'episode_name': None, 'episode_show_name': None, 'spotify_episode_uri': None, 'reason_start': '', 'reason_end': 'fwdbtn', 'shuffle': False, 'skipped': True, 'offline': False, 'offline_timestamp': 0, 'incognito_mode': False}, {'ts': '2014-03-29T11:50:37Z', 'username': '12135342802', 'platform': 'iOS 7.1 (iPhone5,1)', 'ms_played': 229466, 'conn_country': 'CL', 'ip_addr_decrypted': '186.9.128.4', 'user_agent_decrypted': 'unknown', 'master_metadata_track_name': 'Corsario Universal', 'master_metadata_album_artist_name': 'Tiro De Gracia', 'master_metadata_album_album_name': 'Ser Hümano!!', 'spotify_track_uri': 'spotify:track:4JT0fWtusXtT2OyiRh67FA', 'episode_name': None, 'episode_show_name': None, 'spotify_episode_uri': None, 'reason_start': 'fwdbtn', 'reason_end': 'trackdone', 'shuffle': True, 'skipped': False, 'offline': False, 'offline_timestamp': 0, 'incognito_mode': False}, {'ts': '2014-03-29T11:55:43Z', 'username': '12135342802', 'platform': 'iOS 7.1 (iPhone5,1)', 'ms_played': 191040, 'conn_country': 'CL', 'ip_addr_decrypted': '186.9.128.4', 'user_agent_decrypted': 'unknown', 'master_metadata_track_name': 'Bebedor', 'master_metadata_album_artist_name': 'Tiro De Gracia', 'master_metadata_album_album_name': 'Ser Hümano!!', 'spotify_track_uri': 'spotify:track:7qxjrH3ilY6lzZWTlAT7Lj', 'episode_name': None, 'episode_show_name': None, 'spotify_episode_uri': None, 'reason_start': 'trackdone', 'reason_end': 'trackdone', 'shuffle': True, 'skipped': False, 'offline': False, 'offline_timestamp': 0, 'incognito_mode': False}, {'ts': '2014-03-29T11:59:48Z', 'username': '12135342802', 'platform': 'iOS 7.1 (iPhone5,1)', 'ms_played': 243933, 'conn_country': 'CL', 'ip_addr_decrypted': '186.9.128.4', 'user_agent_decrypted': 'unknown', 'master_metadata_track_name': 'Opyo', 'master_metadata_album_artist_name': 'Tiro De Gracia', 'master_metadata_album_album_name': 'Ser Hümano!!', 'spotify_track_uri': 'spotify:track:0oYo92A7N1rfmsEB9CCvlZ', 'episode_name': None, 'episode_show_name': None, 'spotify_episode_uri': None, 'reason_start': 'trackdone', 'reason_end': 'trackdone', 'shuffle': True, 'skipped': False, 'offline': False, 'offline_timestamp': 0, 'incognito_mode': False}, {'ts': '2014-03-29T12:02:07Z', 'username': '12135342802', 'platform': 'iOS 7.1 (iPhone5,1)', 'ms_played': 137555, 'conn_country': 'CL', 'ip_addr_decrypted': '186.9.128.4', 'user_agent_decrypted': 'unknown', 'master_metadata_track_name': 'Declaración de Principios - 2005 Remaster', 'master_metadata_album_artist_name': 'Tiro De Gracia', 'master_metadata_album_album_name': 'Impacto Certero - Grandes Éxitos', 'spotify_track_uri': 'spotify:track:5o6YKHCjarzyEooD97Ntzj', 'episode_name': None, 'episode_show_name': None, 'spotify_episode_uri': None, 'reason_start': 'trackdone', 'reason_end': 'fwdbtn', 'shuffle': True, 'skipped': True, 'offline': False, 'offline_timestamp': 0, 'incognito_mode': False}, {'ts': '2014-03-29T12:06:01Z', 'username': '12135342802', 'platform': 'iOS 7.1 (iPhone5,1)', 'ms_played': 230693, 'conn_country': 'CL', 'ip_addr_decrypted': '186.9.128.4', 'user_agent_decrypted': 'unknown', 'master_metadata_track_name': 'Chupacabras', 'master_metadata_album_artist_name': 'Tiro De Gracia', 'master_metadata_album_album_name': 'Ser Hümano!!', 'spotify_track_uri': 'spotify:track:1ZZXuEFC87l047nDRLVmG7', 'episode_name': None, 'episode_show_name': None, 'spotify_episode_uri': None, 'reason_start': 'fwdbtn', 'reason_end': 'trackdone', 'shuffle': True, 'skipped': False, 'offline': False, 'offline_timestamp': 0, 'incognito_mode': False}, {'ts': '2014-03-29T12:07:17Z', 'username': '12135342802', 'platform': 'iOS 7.1 (iPhone5,1)', 'ms_played': 70160, 'conn_country': 'CL', 'ip_addr_decrypted': '186.9.128.4', 'user_agent_decrypted': 'unknown', 'master_metadata_track_name': 'Interploración (Pacto Con las Ánimas)', 'master_metadata_album_artist_name': 'Tiro De Gracia', 'master_metadata_album_album_name': 'Ser Hümano!!', 'spotify_track_uri': 'spotify:track:0es7CVhyyPFFcCUEmrDYr8', 'episode_name': None, 'episode_show_name': None, 'spotify_episode_uri': None, 'reason_start': 'trackdone', 'reason_end': 'trackdone', 'shuffle': True, 'skipped': False, 'offline': False, 'offline_timestamp': 0, 'incognito_mode': False}, {'ts': '2014-03-29T12:10:38Z', 'username': '12135342802', 'platform': 'iOS 7.1 (iPhone5,1)', 'ms_played': 198493, 'conn_country': 'CL', 'ip_addr_decrypted': '186.9.128.4', 'user_agent_decrypted': 'unknown', 'master_metadata_track_name': 'Combo 10', 'master_metadata_album_artist_name': 'Tiro De Gracia', 'master_metadata_album_album_name': 'Ser Hümano!!', 'spotify_track_uri': 'spotify:track:5Rwg91qHrvNaBVdYt0mDGz', 'episode_name': None, 'episode_show_name': None, 'spotify_episode_uri': None, 'reason_start': 'trackdone', 'reason_end': 'trackdone', 'shuffle': True, 'skipped': False, 'offline': False, 'offline_timestamp': 0, 'incognito_mode': False}, {'ts': '2014-03-29T12:11:16Z', 'username': '12135342802', 'platform': 'iOS 7.1 (iPhone5,1)', 'ms_played': 1021, 'conn_country': 'CL', 'ip_addr_decrypted': '186.9.128.4', 'user_agent_decrypted': 'unknown', 'master_metadata_track_name': 'Joven De La Pobla', 'master_metadata_album_artist_name': 'Tiro De Gracia', 'master_metadata_album_album_name': 'Decisión', 'spotify_track_uri': 'spotify:track:6xbvJz66W91y5ex1BnOuq6', 'episode_name': None, 'episode_show_name': None, 'spotify_episode_uri': None, 'reason_start': 'trackerror', 'reason_end': 'fwdbtn', 'shuffle': True, 'skipped': True, 'offline': False, 'offline_timestamp': 0, 'incognito_mode': False}, {'ts': '2014-03-29T12:11:19Z', 'username': '12135342802', 'platform': 'iOS 7.1 (iPhone5,1)', 'ms_played': 3250, 'conn_country': 'CL', 'ip_addr_decrypted': '186.9.128.4', 'user_agent_decrypted': 'unknown', 'master_metadata_track_name': 'Sueños', 'master_metadata_album_artist_name': 'Tiro De Gracia', 'master_metadata_album_album_name': 'Retorno de Misericordia', 'spotify_track_uri': 'spotify:track:1CHIyvldODAZvaMrtitxT1', 'episode_name': None, 'episode_show_name': None, 'spotify_episode_uri': None, 'reason_start': 'fwdbtn', 'reason_end': 'fwdbtn', 'shuffle': True, 'skipped': True, 'offline': False, 'offline_timestamp': 0, 'incognito_mode': False}]\n"
     ]
    }
   ],
   "source": [
    "print(data[:10])"
   ]
  },
  {
   "cell_type": "code",
   "execution_count": 141,
   "metadata": {},
   "outputs": [
    {
     "data": {
      "text/html": [
       "<div>\n",
       "<style scoped>\n",
       "    .dataframe tbody tr th:only-of-type {\n",
       "        vertical-align: middle;\n",
       "    }\n",
       "\n",
       "    .dataframe tbody tr th {\n",
       "        vertical-align: top;\n",
       "    }\n",
       "\n",
       "    .dataframe thead th {\n",
       "        text-align: right;\n",
       "    }\n",
       "</style>\n",
       "<table border=\"1\" class=\"dataframe\">\n",
       "  <thead>\n",
       "    <tr style=\"text-align: right;\">\n",
       "      <th></th>\n",
       "      <th>ts</th>\n",
       "      <th>username</th>\n",
       "      <th>platform</th>\n",
       "      <th>ms_played</th>\n",
       "      <th>conn_country</th>\n",
       "      <th>ip_addr_decrypted</th>\n",
       "      <th>user_agent_decrypted</th>\n",
       "      <th>master_metadata_track_name</th>\n",
       "      <th>master_metadata_album_artist_name</th>\n",
       "      <th>master_metadata_album_album_name</th>\n",
       "      <th>...</th>\n",
       "      <th>episode_name</th>\n",
       "      <th>episode_show_name</th>\n",
       "      <th>spotify_episode_uri</th>\n",
       "      <th>reason_start</th>\n",
       "      <th>reason_end</th>\n",
       "      <th>shuffle</th>\n",
       "      <th>skipped</th>\n",
       "      <th>offline</th>\n",
       "      <th>offline_timestamp</th>\n",
       "      <th>incognito_mode</th>\n",
       "    </tr>\n",
       "  </thead>\n",
       "  <tbody>\n",
       "    <tr>\n",
       "      <th>0</th>\n",
       "      <td>2014-03-29T11:46:30Z</td>\n",
       "      <td>12135342802</td>\n",
       "      <td>iOS 7.1 (iPhone5,1)</td>\n",
       "      <td>20619</td>\n",
       "      <td>CL</td>\n",
       "      <td>186.9.128.4</td>\n",
       "      <td>unknown</td>\n",
       "      <td>Clavo Y Martilleo</td>\n",
       "      <td>Tiro De Gracia</td>\n",
       "      <td>Ser Hümano!!</td>\n",
       "      <td>...</td>\n",
       "      <td>None</td>\n",
       "      <td>None</td>\n",
       "      <td>None</td>\n",
       "      <td></td>\n",
       "      <td>fwdbtn</td>\n",
       "      <td>False</td>\n",
       "      <td>True</td>\n",
       "      <td>False</td>\n",
       "      <td>0.0</td>\n",
       "      <td>False</td>\n",
       "    </tr>\n",
       "    <tr>\n",
       "      <th>1</th>\n",
       "      <td>2014-03-29T11:50:37Z</td>\n",
       "      <td>12135342802</td>\n",
       "      <td>iOS 7.1 (iPhone5,1)</td>\n",
       "      <td>229466</td>\n",
       "      <td>CL</td>\n",
       "      <td>186.9.128.4</td>\n",
       "      <td>unknown</td>\n",
       "      <td>Corsario Universal</td>\n",
       "      <td>Tiro De Gracia</td>\n",
       "      <td>Ser Hümano!!</td>\n",
       "      <td>...</td>\n",
       "      <td>None</td>\n",
       "      <td>None</td>\n",
       "      <td>None</td>\n",
       "      <td>fwdbtn</td>\n",
       "      <td>trackdone</td>\n",
       "      <td>True</td>\n",
       "      <td>False</td>\n",
       "      <td>False</td>\n",
       "      <td>0.0</td>\n",
       "      <td>False</td>\n",
       "    </tr>\n",
       "    <tr>\n",
       "      <th>2</th>\n",
       "      <td>2014-03-29T11:55:43Z</td>\n",
       "      <td>12135342802</td>\n",
       "      <td>iOS 7.1 (iPhone5,1)</td>\n",
       "      <td>191040</td>\n",
       "      <td>CL</td>\n",
       "      <td>186.9.128.4</td>\n",
       "      <td>unknown</td>\n",
       "      <td>Bebedor</td>\n",
       "      <td>Tiro De Gracia</td>\n",
       "      <td>Ser Hümano!!</td>\n",
       "      <td>...</td>\n",
       "      <td>None</td>\n",
       "      <td>None</td>\n",
       "      <td>None</td>\n",
       "      <td>trackdone</td>\n",
       "      <td>trackdone</td>\n",
       "      <td>True</td>\n",
       "      <td>False</td>\n",
       "      <td>False</td>\n",
       "      <td>0.0</td>\n",
       "      <td>False</td>\n",
       "    </tr>\n",
       "    <tr>\n",
       "      <th>3</th>\n",
       "      <td>2014-03-29T11:59:48Z</td>\n",
       "      <td>12135342802</td>\n",
       "      <td>iOS 7.1 (iPhone5,1)</td>\n",
       "      <td>243933</td>\n",
       "      <td>CL</td>\n",
       "      <td>186.9.128.4</td>\n",
       "      <td>unknown</td>\n",
       "      <td>Opyo</td>\n",
       "      <td>Tiro De Gracia</td>\n",
       "      <td>Ser Hümano!!</td>\n",
       "      <td>...</td>\n",
       "      <td>None</td>\n",
       "      <td>None</td>\n",
       "      <td>None</td>\n",
       "      <td>trackdone</td>\n",
       "      <td>trackdone</td>\n",
       "      <td>True</td>\n",
       "      <td>False</td>\n",
       "      <td>False</td>\n",
       "      <td>0.0</td>\n",
       "      <td>False</td>\n",
       "    </tr>\n",
       "    <tr>\n",
       "      <th>4</th>\n",
       "      <td>2014-03-29T12:02:07Z</td>\n",
       "      <td>12135342802</td>\n",
       "      <td>iOS 7.1 (iPhone5,1)</td>\n",
       "      <td>137555</td>\n",
       "      <td>CL</td>\n",
       "      <td>186.9.128.4</td>\n",
       "      <td>unknown</td>\n",
       "      <td>Declaración de Principios - 2005 Remaster</td>\n",
       "      <td>Tiro De Gracia</td>\n",
       "      <td>Impacto Certero - Grandes Éxitos</td>\n",
       "      <td>...</td>\n",
       "      <td>None</td>\n",
       "      <td>None</td>\n",
       "      <td>None</td>\n",
       "      <td>trackdone</td>\n",
       "      <td>fwdbtn</td>\n",
       "      <td>True</td>\n",
       "      <td>True</td>\n",
       "      <td>False</td>\n",
       "      <td>0.0</td>\n",
       "      <td>False</td>\n",
       "    </tr>\n",
       "  </tbody>\n",
       "</table>\n",
       "<p>5 rows × 21 columns</p>\n",
       "</div>"
      ],
      "text/plain": [
       "                     ts     username             platform  ms_played  \\\n",
       "0  2014-03-29T11:46:30Z  12135342802  iOS 7.1 (iPhone5,1)      20619   \n",
       "1  2014-03-29T11:50:37Z  12135342802  iOS 7.1 (iPhone5,1)     229466   \n",
       "2  2014-03-29T11:55:43Z  12135342802  iOS 7.1 (iPhone5,1)     191040   \n",
       "3  2014-03-29T11:59:48Z  12135342802  iOS 7.1 (iPhone5,1)     243933   \n",
       "4  2014-03-29T12:02:07Z  12135342802  iOS 7.1 (iPhone5,1)     137555   \n",
       "\n",
       "  conn_country ip_addr_decrypted user_agent_decrypted  \\\n",
       "0           CL       186.9.128.4              unknown   \n",
       "1           CL       186.9.128.4              unknown   \n",
       "2           CL       186.9.128.4              unknown   \n",
       "3           CL       186.9.128.4              unknown   \n",
       "4           CL       186.9.128.4              unknown   \n",
       "\n",
       "                  master_metadata_track_name  \\\n",
       "0                          Clavo Y Martilleo   \n",
       "1                         Corsario Universal   \n",
       "2                                    Bebedor   \n",
       "3                                       Opyo   \n",
       "4  Declaración de Principios - 2005 Remaster   \n",
       "\n",
       "  master_metadata_album_artist_name  master_metadata_album_album_name  ...  \\\n",
       "0                    Tiro De Gracia                      Ser Hümano!!  ...   \n",
       "1                    Tiro De Gracia                      Ser Hümano!!  ...   \n",
       "2                    Tiro De Gracia                      Ser Hümano!!  ...   \n",
       "3                    Tiro De Gracia                      Ser Hümano!!  ...   \n",
       "4                    Tiro De Gracia  Impacto Certero - Grandes Éxitos  ...   \n",
       "\n",
       "  episode_name episode_show_name spotify_episode_uri reason_start reason_end  \\\n",
       "0         None              None                None                  fwdbtn   \n",
       "1         None              None                None       fwdbtn  trackdone   \n",
       "2         None              None                None    trackdone  trackdone   \n",
       "3         None              None                None    trackdone  trackdone   \n",
       "4         None              None                None    trackdone     fwdbtn   \n",
       "\n",
       "  shuffle  skipped offline offline_timestamp  incognito_mode  \n",
       "0   False     True   False               0.0           False  \n",
       "1    True    False   False               0.0           False  \n",
       "2    True    False   False               0.0           False  \n",
       "3    True    False   False               0.0           False  \n",
       "4    True     True   False               0.0           False  \n",
       "\n",
       "[5 rows x 21 columns]"
      ]
     },
     "execution_count": 141,
     "metadata": {},
     "output_type": "execute_result"
    }
   ],
   "source": [
    "df = pd.DataFrame(data)\n",
    "df.head()"
   ]
  },
  {
   "cell_type": "code",
   "execution_count": 142,
   "metadata": {},
   "outputs": [
    {
     "data": {
      "text/plain": [
       "Index(['ts', 'username', 'platform', 'ms_played', 'conn_country',\n",
       "       'ip_addr_decrypted', 'user_agent_decrypted',\n",
       "       'master_metadata_track_name', 'master_metadata_album_artist_name',\n",
       "       'master_metadata_album_album_name', 'spotify_track_uri', 'episode_name',\n",
       "       'episode_show_name', 'spotify_episode_uri', 'reason_start',\n",
       "       'reason_end', 'shuffle', 'skipped', 'offline', 'offline_timestamp',\n",
       "       'incognito_mode'],\n",
       "      dtype='object')"
      ]
     },
     "execution_count": 142,
     "metadata": {},
     "output_type": "execute_result"
    }
   ],
   "source": [
    "df.columns"
   ]
  },
  {
   "cell_type": "code",
   "execution_count": 143,
   "metadata": {},
   "outputs": [],
   "source": [
    "df = df.drop(columns=[\n",
    "       'username', 'ip_addr_decrypted', 'user_agent_decrypted',\n",
    "       'spotify_track_uri', 'episode_name', 'episode_show_name', 'spotify_episode_uri', \n",
    "       'offline', 'offline_timestamp', 'incognito_mode'\n",
    "]).sort_values('ts').rename(columns={\n",
    "    'master_metadata_track_name': 'track_name', \n",
    "    'master_metadata_album_artist_name': 'artist',\n",
    "    'master_metadata_album_album_name': 'album'\n",
    "})\n"
   ]
  },
  {
   "cell_type": "code",
   "execution_count": 144,
   "metadata": {},
   "outputs": [
    {
     "data": {
      "text/html": [
       "<div>\n",
       "<style scoped>\n",
       "    .dataframe tbody tr th:only-of-type {\n",
       "        vertical-align: middle;\n",
       "    }\n",
       "\n",
       "    .dataframe tbody tr th {\n",
       "        vertical-align: top;\n",
       "    }\n",
       "\n",
       "    .dataframe thead th {\n",
       "        text-align: right;\n",
       "    }\n",
       "</style>\n",
       "<table border=\"1\" class=\"dataframe\">\n",
       "  <thead>\n",
       "    <tr style=\"text-align: right;\">\n",
       "      <th></th>\n",
       "      <th>ts</th>\n",
       "      <th>platform</th>\n",
       "      <th>ms_played</th>\n",
       "      <th>conn_country</th>\n",
       "      <th>track_name</th>\n",
       "      <th>artist</th>\n",
       "      <th>album</th>\n",
       "      <th>reason_start</th>\n",
       "      <th>reason_end</th>\n",
       "      <th>shuffle</th>\n",
       "      <th>skipped</th>\n",
       "      <th>year</th>\n",
       "      <th>month</th>\n",
       "      <th>day</th>\n",
       "      <th>time</th>\n",
       "      <th>hour</th>\n",
       "      <th>minute</th>\n",
       "      <th>second</th>\n",
       "    </tr>\n",
       "  </thead>\n",
       "  <tbody>\n",
       "    <tr>\n",
       "      <th>0</th>\n",
       "      <td>2014-03-29T11:46:30Z</td>\n",
       "      <td>iOS 7.1 (iPhone5,1)</td>\n",
       "      <td>20619</td>\n",
       "      <td>CL</td>\n",
       "      <td>Clavo Y Martilleo</td>\n",
       "      <td>Tiro De Gracia</td>\n",
       "      <td>Ser Hümano!!</td>\n",
       "      <td></td>\n",
       "      <td>fwdbtn</td>\n",
       "      <td>False</td>\n",
       "      <td>True</td>\n",
       "      <td>2014</td>\n",
       "      <td>3</td>\n",
       "      <td>29</td>\n",
       "      <td>11:46:30</td>\n",
       "      <td>11</td>\n",
       "      <td>46</td>\n",
       "      <td>30</td>\n",
       "    </tr>\n",
       "    <tr>\n",
       "      <th>1</th>\n",
       "      <td>2014-03-29T11:50:37Z</td>\n",
       "      <td>iOS 7.1 (iPhone5,1)</td>\n",
       "      <td>229466</td>\n",
       "      <td>CL</td>\n",
       "      <td>Corsario Universal</td>\n",
       "      <td>Tiro De Gracia</td>\n",
       "      <td>Ser Hümano!!</td>\n",
       "      <td>fwdbtn</td>\n",
       "      <td>trackdone</td>\n",
       "      <td>True</td>\n",
       "      <td>False</td>\n",
       "      <td>2014</td>\n",
       "      <td>3</td>\n",
       "      <td>29</td>\n",
       "      <td>11:50:37</td>\n",
       "      <td>11</td>\n",
       "      <td>50</td>\n",
       "      <td>37</td>\n",
       "    </tr>\n",
       "    <tr>\n",
       "      <th>2</th>\n",
       "      <td>2014-03-29T11:55:43Z</td>\n",
       "      <td>iOS 7.1 (iPhone5,1)</td>\n",
       "      <td>191040</td>\n",
       "      <td>CL</td>\n",
       "      <td>Bebedor</td>\n",
       "      <td>Tiro De Gracia</td>\n",
       "      <td>Ser Hümano!!</td>\n",
       "      <td>trackdone</td>\n",
       "      <td>trackdone</td>\n",
       "      <td>True</td>\n",
       "      <td>False</td>\n",
       "      <td>2014</td>\n",
       "      <td>3</td>\n",
       "      <td>29</td>\n",
       "      <td>11:55:43</td>\n",
       "      <td>11</td>\n",
       "      <td>55</td>\n",
       "      <td>43</td>\n",
       "    </tr>\n",
       "    <tr>\n",
       "      <th>3</th>\n",
       "      <td>2014-03-29T11:59:48Z</td>\n",
       "      <td>iOS 7.1 (iPhone5,1)</td>\n",
       "      <td>243933</td>\n",
       "      <td>CL</td>\n",
       "      <td>Opyo</td>\n",
       "      <td>Tiro De Gracia</td>\n",
       "      <td>Ser Hümano!!</td>\n",
       "      <td>trackdone</td>\n",
       "      <td>trackdone</td>\n",
       "      <td>True</td>\n",
       "      <td>False</td>\n",
       "      <td>2014</td>\n",
       "      <td>3</td>\n",
       "      <td>29</td>\n",
       "      <td>11:59:48</td>\n",
       "      <td>11</td>\n",
       "      <td>59</td>\n",
       "      <td>48</td>\n",
       "    </tr>\n",
       "    <tr>\n",
       "      <th>4</th>\n",
       "      <td>2014-03-29T12:02:07Z</td>\n",
       "      <td>iOS 7.1 (iPhone5,1)</td>\n",
       "      <td>137555</td>\n",
       "      <td>CL</td>\n",
       "      <td>Declaración de Principios - 2005 Remaster</td>\n",
       "      <td>Tiro De Gracia</td>\n",
       "      <td>Impacto Certero - Grandes Éxitos</td>\n",
       "      <td>trackdone</td>\n",
       "      <td>fwdbtn</td>\n",
       "      <td>True</td>\n",
       "      <td>True</td>\n",
       "      <td>2014</td>\n",
       "      <td>3</td>\n",
       "      <td>29</td>\n",
       "      <td>12:02:07</td>\n",
       "      <td>12</td>\n",
       "      <td>2</td>\n",
       "      <td>7</td>\n",
       "    </tr>\n",
       "  </tbody>\n",
       "</table>\n",
       "</div>"
      ],
      "text/plain": [
       "                     ts             platform  ms_played conn_country  \\\n",
       "0  2014-03-29T11:46:30Z  iOS 7.1 (iPhone5,1)      20619           CL   \n",
       "1  2014-03-29T11:50:37Z  iOS 7.1 (iPhone5,1)     229466           CL   \n",
       "2  2014-03-29T11:55:43Z  iOS 7.1 (iPhone5,1)     191040           CL   \n",
       "3  2014-03-29T11:59:48Z  iOS 7.1 (iPhone5,1)     243933           CL   \n",
       "4  2014-03-29T12:02:07Z  iOS 7.1 (iPhone5,1)     137555           CL   \n",
       "\n",
       "                                  track_name          artist  \\\n",
       "0                          Clavo Y Martilleo  Tiro De Gracia   \n",
       "1                         Corsario Universal  Tiro De Gracia   \n",
       "2                                    Bebedor  Tiro De Gracia   \n",
       "3                                       Opyo  Tiro De Gracia   \n",
       "4  Declaración de Principios - 2005 Remaster  Tiro De Gracia   \n",
       "\n",
       "                              album reason_start reason_end  shuffle skipped  \\\n",
       "0                      Ser Hümano!!                  fwdbtn    False    True   \n",
       "1                      Ser Hümano!!       fwdbtn  trackdone     True   False   \n",
       "2                      Ser Hümano!!    trackdone  trackdone     True   False   \n",
       "3                      Ser Hümano!!    trackdone  trackdone     True   False   \n",
       "4  Impacto Certero - Grandes Éxitos    trackdone     fwdbtn     True    True   \n",
       "\n",
       "   year  month  day      time  hour  minute  second  \n",
       "0  2014      3   29  11:46:30    11      46      30  \n",
       "1  2014      3   29  11:50:37    11      50      37  \n",
       "2  2014      3   29  11:55:43    11      55      43  \n",
       "3  2014      3   29  11:59:48    11      59      48  \n",
       "4  2014      3   29  12:02:07    12       2       7  "
      ]
     },
     "execution_count": 144,
     "metadata": {},
     "output_type": "execute_result"
    }
   ],
   "source": [
    "df['year'] = df['ts'].apply(lambda ts: int(ts.split('-')[0]))\n",
    "df['month'] = df['ts'].apply(lambda ts: int(ts.split('-')[1]))\n",
    "df['day'] = df['ts'].apply(lambda ts: int(ts.split('-')[2].split('T')[0]))\n",
    "df['time'] = df['ts'].apply(lambda ts: ts.split('-')[2].split('T')[1][:-1])\n",
    "df['hour'] = df['time'].apply(lambda time: int(time.split(':')[0]))\n",
    "df['minute'] = df['time'].apply(lambda time: int(time.split(':')[1]))\n",
    "df['second'] = df['time'].apply(lambda time: int(time.split(':')[2]))\n",
    "# df = df.drop(columns=['ts', 'time'])\n",
    "df.head()"
   ]
  },
  {
   "cell_type": "code",
   "execution_count": 145,
   "metadata": {},
   "outputs": [],
   "source": [
    "df.to_csv('data/processed.csv')"
   ]
  },
  {
   "cell_type": "code",
   "execution_count": 146,
   "metadata": {},
   "outputs": [
    {
     "data": {
      "text/plain": [
       "year\n",
       "2014      913.102867\n",
       "2016        1.745450\n",
       "2017    30421.755333\n",
       "2018    55159.662567\n",
       "2019    36650.444550\n",
       "2020    11758.596300\n",
       "2021    10795.734883\n",
       "2022     4356.479100\n",
       "2023    26033.701450\n",
       "2024    58115.618950\n",
       "Name: ms_played, dtype: float64"
      ]
     },
     "execution_count": 146,
     "metadata": {},
     "output_type": "execute_result"
    }
   ],
   "source": [
    "year_sum = df.groupby('year').sum()['ms_played'] / 1000 / 60\n",
    "year_sum"
   ]
  },
  {
   "cell_type": "code",
   "execution_count": 147,
   "metadata": {},
   "outputs": [
    {
     "name": "stdout",
     "output_type": "stream",
     "text": [
      "year  month\n",
      "2014  8          0.009288\n",
      "2016  6          0.029091\n",
      "2014  5          0.135671\n",
      "2022  11         1.354058\n",
      "      2          2.438894\n",
      "                  ...    \n",
      "2024  10       113.377583\n",
      "      1        120.355778\n",
      "2018  3        123.543731\n",
      "2024  7        139.390503\n",
      "2017  11       281.059551\n",
      "Name: ms_played, Length: 93, dtype: float64\n"
     ]
    },
    {
     "data": {
      "text/plain": [
       "<Axes: xlabel='year,month'>"
      ]
     },
     "execution_count": 147,
     "metadata": {},
     "output_type": "execute_result"
    },
    {
     "data": {
      "image/png": "[encoded data removed]",
      "text/plain": [
       "<Figure size 1200x400 with 1 Axes>"
      ]
     },
     "metadata": {},
     "output_type": "display_data"
    }
   ],
   "source": [
    "month_sum = (df.groupby(['year', 'month']).sum()['ms_played'] / 1000 / 60 / 60)\n",
    "print(month_sum.sort_values())\n",
    "month_sum.plot(figsize=(12,4))"
   ]
  },
  {
   "cell_type": "code",
   "execution_count": 148,
   "metadata": {},
   "outputs": [
    {
     "data": {
      "text/html": [
       "<div>\n",
       "<style scoped>\n",
       "    .dataframe tbody tr th:only-of-type {\n",
       "        vertical-align: middle;\n",
       "    }\n",
       "\n",
       "    .dataframe tbody tr th {\n",
       "        vertical-align: top;\n",
       "    }\n",
       "\n",
       "    .dataframe thead th {\n",
       "        text-align: right;\n",
       "    }\n",
       "</style>\n",
       "<table border=\"1\" class=\"dataframe\">\n",
       "  <thead>\n",
       "    <tr style=\"text-align: right;\">\n",
       "      <th></th>\n",
       "      <th></th>\n",
       "      <th>ms_played</th>\n",
       "    </tr>\n",
       "    <tr>\n",
       "      <th>track_name</th>\n",
       "      <th>artist</th>\n",
       "      <th></th>\n",
       "    </tr>\n",
       "  </thead>\n",
       "  <tbody>\n",
       "    <tr>\n",
       "      <th>Clarity</th>\n",
       "      <th>Adam Neely</th>\n",
       "      <td>193570673</td>\n",
       "    </tr>\n",
       "    <tr>\n",
       "      <th>Will He</th>\n",
       "      <th>Joji</th>\n",
       "      <td>45048062</td>\n",
       "    </tr>\n",
       "    <tr>\n",
       "      <th>DNA.</th>\n",
       "      <th>Kendrick Lamar</th>\n",
       "      <td>24678007</td>\n",
       "    </tr>\n",
       "    <tr>\n",
       "      <th>Pasar de largo</th>\n",
       "      <th>Villa Cariño</th>\n",
       "      <td>24627123</td>\n",
       "    </tr>\n",
       "    <tr>\n",
       "      <th>HUMBLE.</th>\n",
       "      <th>Kendrick Lamar</th>\n",
       "      <td>20399827</td>\n",
       "    </tr>\n",
       "    <tr>\n",
       "      <th>Pacifico</th>\n",
       "      <th>Ases Falsos</th>\n",
       "      <td>16986618</td>\n",
       "    </tr>\n",
       "    <tr>\n",
       "      <th>Pills</th>\n",
       "      <th>Joji</th>\n",
       "      <td>15185699</td>\n",
       "    </tr>\n",
       "    <tr>\n",
       "      <th>Demons</th>\n",
       "      <th>Joji</th>\n",
       "      <td>13725782</td>\n",
       "    </tr>\n",
       "    <tr>\n",
       "      <th>Window</th>\n",
       "      <th>Joji</th>\n",
       "      <td>11796876</td>\n",
       "    </tr>\n",
       "    <tr>\n",
       "      <th>Bitter Fuck</th>\n",
       "      <th>Joji</th>\n",
       "      <td>11506645</td>\n",
       "    </tr>\n",
       "    <tr>\n",
       "      <th>Swimming Pools (Drank) - Extended Version</th>\n",
       "      <th>Kendrick Lamar</th>\n",
       "      <td>11024485</td>\n",
       "    </tr>\n",
       "    <tr>\n",
       "      <th>Siniestra</th>\n",
       "      <th>Los Bunkers</th>\n",
       "      <td>9854714</td>\n",
       "    </tr>\n",
       "    <tr>\n",
       "      <th>Money Trees</th>\n",
       "      <th>Kendrick Lamar</th>\n",
       "      <td>9758623</td>\n",
       "    </tr>\n",
       "    <tr>\n",
       "      <th>worldstar money (interlude)</th>\n",
       "      <th>Joji</th>\n",
       "      <td>9158843</td>\n",
       "    </tr>\n",
       "    <tr>\n",
       "      <th>LOVE. FEAT. ZACARI.</th>\n",
       "      <th>Kendrick Lamar</th>\n",
       "      <td>6832038</td>\n",
       "    </tr>\n",
       "    <tr>\n",
       "      <th>Bitch, Don’t Kill My Vibe - Remix</th>\n",
       "      <th>Kendrick Lamar</th>\n",
       "      <td>6088686</td>\n",
       "    </tr>\n",
       "    <tr>\n",
       "      <th>Poetic Justice</th>\n",
       "      <th>Kendrick Lamar</th>\n",
       "      <td>5775658</td>\n",
       "    </tr>\n",
       "    <tr>\n",
       "      <th>She</th>\n",
       "      <th>Ed Sheeran</th>\n",
       "      <td>5113903</td>\n",
       "    </tr>\n",
       "    <tr>\n",
       "      <th>ELEMENT.</th>\n",
       "      <th>Kendrick Lamar</th>\n",
       "      <td>5087237</td>\n",
       "    </tr>\n",
       "    <tr>\n",
       "      <th>Sing About Me, I'm Dying Of Thirst</th>\n",
       "      <th>Kendrick Lamar</th>\n",
       "      <td>5065008</td>\n",
       "    </tr>\n",
       "    <tr>\n",
       "      <th>LOYALTY. FEAT. RIHANNA.</th>\n",
       "      <th>Kendrick Lamar</th>\n",
       "      <td>5008521</td>\n",
       "    </tr>\n",
       "    <tr>\n",
       "      <th>Ultima canción</th>\n",
       "      <th>Los Bunkers</th>\n",
       "      <td>4984238</td>\n",
       "    </tr>\n",
       "    <tr>\n",
       "      <th>Mask Off (feat. Kendrick Lamar) - Remix</th>\n",
       "      <th>Future</th>\n",
       "      <td>4911386</td>\n",
       "    </tr>\n",
       "    <tr>\n",
       "      <th>Perfect Pint (feat. Kendrick Lamar, Gucci Mane &amp; Rae Sremmurd)</th>\n",
       "      <th>Mike WiLL Made-It</th>\n",
       "      <td>4444259</td>\n",
       "    </tr>\n",
       "    <tr>\n",
       "      <th>Miño</th>\n",
       "      <th>Los Bunkers</th>\n",
       "      <td>4176811</td>\n",
       "    </tr>\n",
       "  </tbody>\n",
       "</table>\n",
       "</div>"
      ],
      "text/plain": [
       "                                                                      ms_played\n",
       "track_name                                         artist                      \n",
       "Clarity                                            Adam Neely         193570673\n",
       "Will He                                            Joji                45048062\n",
       "DNA.                                               Kendrick Lamar      24678007\n",
       "Pasar de largo                                     Villa Cariño        24627123\n",
       "HUMBLE.                                            Kendrick Lamar      20399827\n",
       "Pacifico                                           Ases Falsos         16986618\n",
       "Pills                                              Joji                15185699\n",
       "Demons                                             Joji                13725782\n",
       "Window                                             Joji                11796876\n",
       "Bitter Fuck                                        Joji                11506645\n",
       "Swimming Pools (Drank) - Extended Version          Kendrick Lamar      11024485\n",
       "Siniestra                                          Los Bunkers          9854714\n",
       "Money Trees                                        Kendrick Lamar       9758623\n",
       "worldstar money (interlude)                        Joji                 9158843\n",
       "LOVE. FEAT. ZACARI.                                Kendrick Lamar       6832038\n",
       "Bitch, Don’t Kill My Vibe - Remix                  Kendrick Lamar       6088686\n",
       "Poetic Justice                                     Kendrick Lamar       5775658\n",
       "She                                                Ed Sheeran           5113903\n",
       "ELEMENT.                                           Kendrick Lamar       5087237\n",
       "Sing About Me, I'm Dying Of Thirst                 Kendrick Lamar       5065008\n",
       "LOYALTY. FEAT. RIHANNA.                            Kendrick Lamar       5008521\n",
       "Ultima canción                                     Los Bunkers          4984238\n",
       "Mask Off (feat. Kendrick Lamar) - Remix            Future               4911386\n",
       "Perfect Pint (feat. Kendrick Lamar, Gucci Mane ... Mike WiLL Made-It    4444259\n",
       "Miño                                               Los Bunkers          4176811"
      ]
     },
     "execution_count": 148,
     "metadata": {},
     "output_type": "execute_result"
    }
   ],
   "source": [
    "y2017 = df[df['year'] == 2017]\n",
    "nov2017 = y2017[y2017['month'] == 11]\n",
    "nov2017.loc[:,['track_name', 'ms_played', 'artist']].groupby(['track_name', 'artist']).sum().sort_values('ms_played', ascending=False).head(25)"
   ]
  },
  {
   "cell_type": "code",
   "execution_count": 149,
   "metadata": {},
   "outputs": [
    {
     "name": "stdout",
     "output_type": "stream",
     "text": [
      "1222\n"
     ]
    },
    {
     "data": {
      "text/plain": [
       "np.float64(200.3849509001637)"
      ]
     },
     "execution_count": 149,
     "metadata": {},
     "output_type": "execute_result"
    }
   ],
   "source": [
    "clarity_streams = df[(df['artist'] == 'Adam Neely') & (df['track_name'] == 'Clarity')]\n",
    "\n",
    "print(len(clarity_streams))\n",
    "clarity_streams['ms_played'].sum() / len(clarity_streams) / 1000"
   ]
  },
  {
   "cell_type": "code",
   "execution_count": 150,
   "metadata": {},
   "outputs": [
    {
     "data": {
      "text/plain": [
       "<Axes: xlabel='month,day,hour'>"
      ]
     },
     "execution_count": 150,
     "metadata": {},
     "output_type": "execute_result"
    },
    {
     "data": {
      "image/png": "[encoded data removed]",
      "text/plain": [
       "<Figure size 640x480 with 1 Axes>"
      ]
     },
     "metadata": {},
     "output_type": "display_data"
    }
   ],
   "source": [
    "clarity_streams.groupby(['month', 'day', 'hour']).sum()['ms_played'].plot()"
   ]
  },
  {
   "cell_type": "code",
   "execution_count": 151,
   "metadata": {},
   "outputs": [
    {
     "data": {
      "text/plain": [
       "track_name\n",
       "Afterglow                  0.193941\n",
       "DIORAMA                    1.294770\n",
       "Goldfish                   0.059462\n",
       "LOOP (feat. Lil Cherry)    4.120687\n",
       "Tik Tok                    2.141924\n",
       "Name: ms_played, dtype: float64"
      ]
     },
     "execution_count": 151,
     "metadata": {},
     "output_type": "execute_result"
    }
   ],
   "source": [
    "yves = df[df['artist'] == 'Yves']\n",
    "yves.groupby('track_name')['ms_played'].sum() / 1000 / 60 / 60"
   ]
  },
  {
   "cell_type": "code",
   "execution_count": 152,
   "metadata": {},
   "outputs": [
    {
     "data": {
      "text/plain": [
       "year\n",
       "2014      433\n",
       "2016        3\n",
       "2017    10707\n",
       "2018    20515\n",
       "2019    12623\n",
       "2020     3251\n",
       "2021     3452\n",
       "2022     1588\n",
       "2023     9747\n",
       "2024    21424\n",
       "Name: count, dtype: int64"
      ]
     },
     "execution_count": 152,
     "metadata": {},
     "output_type": "execute_result"
    }
   ],
   "source": [
    "df['year'].value_counts().sort_index()"
   ]
  },
  {
   "cell_type": "code",
   "execution_count": 153,
   "metadata": {},
   "outputs": [
    {
     "name": "stdout",
     "output_type": "stream",
     "text": [
      "433\n",
      "3\n",
      "10707\n",
      "20515\n",
      "12623\n",
      "3251\n",
      "3452\n",
      "1588\n",
      "9747\n",
      "21424\n"
     ]
    },
    {
     "data": {
      "text/plain": [
       "83743"
      ]
     },
     "execution_count": 153,
     "metadata": {},
     "output_type": "execute_result"
    }
   ],
   "source": [
    "years = df['year'].unique()\n",
    "yearly_data = [df[df['year'] == year] for year in years]\n",
    "total = 0\n",
    "for year in yearly_data:\n",
    "    total += len(year)\n",
    "    print(f'{len(year)}')\n",
    "total"
   ]
  },
  {
   "cell_type": "code",
   "execution_count": 154,
   "metadata": {},
   "outputs": [
    {
     "name": "stdout",
     "output_type": "stream",
     "text": [
      "year: 2014\n",
      "                                                    ms_played\n",
      "artist            album                                      \n",
      "Tiro De Gracia    Ser Hümano!!                        9830046\n",
      "JAY-Z             Collision Course                    4251647\n",
      "Capital Cities    In A Tidal Wave Of Mystery          3599039\n",
      "Sum 41            Screaming Bloody Murder             3588533\n",
      "Tiro De Gracia    Retorno de Misericordia             2738249\n",
      "                  Impacto Certero - Grandes Éxitos    1931168\n",
      "Incubus           Incubus HQ Live Deluxe Edition      1902145\n",
      "Pharrell Williams G I R L                             1769039\n",
      "Bruno Mars        Unorthodox Jukebox                  1667655\n",
      "Sum 41            Underclass Hero                     1533151\n",
      "year: 2016\n",
      "                                               ms_played\n",
      "artist           album                                  \n",
      "Cannibal Corpse  Torturing and Eviscerating        47397\n",
      "Protest The Hero The Best of Protest the Hero      28467\n",
      "year: 2017\n",
      "                                                ms_played\n",
      "artist         album                                     \n",
      "Adam Neely     Clarity                          244182230\n",
      "Joji           In Tongues                        85222856\n",
      "Kendrick Lamar DAMN.                             80367286\n",
      "Los Bunkers    Grandes Exitos                    75751232\n",
      "Kendrick Lamar good kid, m.A.A.d city            71119528\n",
      "Seba Alfaro    Bicho Raro                        55725222\n",
      "Incubus        If Not Now, When?                 48307775\n",
      "Villa Cariño   La Fiesta es de Nosotros          42636541\n",
      "Ases Falsos    Lo Mejor de Ases Falsos, Vol. 1   35050001\n",
      "Ed Sheeran     x                                 33219678\n",
      "year: 2018\n",
      "                                           ms_played\n",
      "artist             album                            \n",
      "Mac Miller         Swimming                154626056\n",
      "Post Malone        beerbongs & bentleys    134053790\n",
      "Tyler, The Creator Wolf                     83506121\n",
      "                   Flower Boy               80400070\n",
      "blackbear          digital druglord         66419194\n",
      "Lil Skies          Life of a Dark Rose      56711885\n",
      "Pearl Jam          Ten                      53881644\n",
      "Twenty One Pilots  Trench                   48811401\n",
      "Tyler, The Creator Goblin                   48264251\n",
      "Kendrick Lamar     good kid, m.A.A.d city   43947321\n",
      "year: 2019\n",
      "                                           ms_played\n",
      "artist             album                            \n",
      "Twenty One Pilots  Trench                   84095039\n",
      "Ases Falsos        Mala Fama                83383138\n",
      "Teleradio Donoso   Bailar y Llorar          60729561\n",
      "Los Tres           Los Tres                 57287541\n",
      "Incubus            Monuments And Melodies   54126872\n",
      "Alex Anwandter     Amiga                    49654725\n",
      "Ases Falsos        Juventud Americana       49186728\n",
      "                   Conducción               49183254\n",
      "Fother Muckers     No Soy Uno               44404849\n",
      "Tyler, The Creator IGOR                     42895125\n",
      "year: 2020\n",
      "                                                ms_played\n",
      "artist           album                                   \n",
      "Alex Anwandter   Amiga                           46968819\n",
      "Bandalos Chinos  BACH                            27707434\n",
      "Niños Del Cerro  Lance                           21677105\n",
      "Dënver           Música, Gramática, Gimnasia     21576009\n",
      "Seba Alfaro      Bicho Raro                      19470635\n",
      "Teleradio Donoso Bailar y Llorar                 19339021\n",
      "Radiohead        OK Computer OKNOTOK 1997 2017   16624731\n",
      "Niños Del Cerro  Cuauhtémoc                      15487945\n",
      "Ases Falsos      Mala Fama                       15213002\n",
      "Radiohead        In Rainbows                     12444455\n",
      "year: 2021\n",
      "                                           ms_played\n",
      "artist             album                            \n",
      "Ases Falsos        Tacto                    62336657\n",
      "                   Chocadito                39447907\n",
      "Alex Anwandter     Latinoamericana          25888712\n",
      "Mac Miller         Swimming                 24967381\n",
      "Twenty One Pilots  Trench                   18270583\n",
      "Alex Anwandter     Amiga                    18202283\n",
      "Daft Punk          Random Access Memories   18199174\n",
      "Twenty One Pilots  Blurryface               16295157\n",
      "Ases Falsos        Mala Fama                14979175\n",
      "Friday Night Plans Plastic Love             11831121\n",
      "year: 2022\n",
      "                                    ms_played\n",
      "artist             album                     \n",
      "Bandalos Chinos    BACH              16340823\n",
      "Ases Falsos        El Hombre Puede   13000421\n",
      "                   Mala Fama          8693859\n",
      "Fother Muckers     No Soy Uno         8130497\n",
      "Niños Del Cerro    Lance              6334258\n",
      "Alex Anwandter     Amiga              5793622\n",
      "Seba Alfaro        Bicho Raro         5209920\n",
      "Teleradio Donoso   Bailar y Llorar    4697905\n",
      "Los Tres           Los Tres           4615566\n",
      "Francisco Victoria Prenda             4509985\n",
      "year: 2023\n",
      "                                                                 ms_played\n",
      "artist                 album                                              \n",
      "Kendrick Lamar         Mr. Morale & The Big Steppers              32226494\n",
      "SZA                    Ctrl                                       27205193\n",
      "                       SOS                                        26826040\n",
      "Tyler, The Creator     IGOR                                       24426607\n",
      "                       CALL ME IF YOU GET LOST: The Estate Sale   21169092\n",
      "Frank Ocean            Blonde                                     20192233\n",
      "                       channel ORANGE                             19121965\n",
      "LOOΠΔ / ODD EYE CIRCLE Max & Match                                18531571\n",
      "Ases Falsos            Mala Fama                                  16063162\n",
      "NewJeans               NewJeans 1st EP 'New Jeans'                15868638\n",
      "year: 2024\n",
      "                                                                 ms_played\n",
      "artist       album                                                        \n",
      "TWICE        Formula of Love: O+T=<3                              91454040\n",
      "NMIXX        Fe3O4: BREAK                                         73160413\n",
      "LE SSERAFIM  UNFORGIVEN                                           71024969\n",
      "NAYEON       NA                                                   69943766\n",
      "TWICE        DIVE                                                 60159157\n",
      "ARTMS        <Dall>                                               60065657\n",
      "TWICE        With YOU-th                                          53454782\n",
      "NewJeans     NewJeans 1st EP 'New Jeans'                          49776593\n",
      "Santa Madero Ya tengo nostalgia por conversaciones que tuve ...   44639937\n",
      "ILLIT        SUPER REAL ME                                        43980674\n"
     ]
    }
   ],
   "source": [
    "def get_top_category(df, categories, count=5):\n",
    "    return (df.groupby(categories).sum().sort_values('ms_played', ascending=False).head(count)[['ms_played']])  \n",
    "for data in yearly_data:\n",
    "    print(f'year: {data['year'].iloc[0]}')    \n",
    "    print(get_top_category(data, ['artist', 'album'], 10))"
   ]
  },
  {
   "cell_type": "code",
   "execution_count": 155,
   "metadata": {},
   "outputs": [
    {
     "data": {
      "text/plain": [
       "<Axes: >"
      ]
     },
     "execution_count": 155,
     "metadata": {},
     "output_type": "execute_result"
    },
    {
     "data": {
      "image/png": "[encoded data removed]",
      "text/plain": [
       "<Figure size 640x480 with 1 Axes>"
      ]
     },
     "metadata": {},
     "output_type": "display_data"
    }
   ],
   "source": [
    "# count_per_year = {}\n",
    "years = []\n",
    "count = []\n",
    "for data in yearly_data:\n",
    "    # print(f'year: {data['year'].iloc[0]}, total_ms: {data['ms_played'].sum()}')\n",
    "    # count_per_year[data['year'].iloc[0]] = data['ms_played'].sum()\n",
    "    years += [data['year'].iloc[0]]\n",
    "    count += [data['ms_played'].sum()]\n",
    "\n",
    "count_df = pd.DataFrame(count, index=years)\n",
    "count_df.plot()\n"
   ]
  }
 ],
 "metadata": {
  "kernelspec": {
   "display_name": "venv",
   "language": "python",
   "name": "python3"
  },
  "language_info": {
   "codemirror_mode": {
    "name": "ipython",
    "version": 3
   },
   "file_extension": ".py",
   "mimetype": "text/x-python",
   "name": "python",
   "nbconvert_exporter": "python",
   "pygments_lexer": "ipython3",
   "version": "3.12.3"
  }
 },
 "nbformat": 4,
 "nbformat_minor": 2
}
